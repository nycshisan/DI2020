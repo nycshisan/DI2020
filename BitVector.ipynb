{
 "cells": [
  {
   "cell_type": "code",
   "execution_count": 1,
   "metadata": {},
   "outputs": [
    {
     "name": "stdout",
     "output_type": "stream",
     "text": [
      "importing Jupyter notebook from WordRAM.ipynb\n"
     ]
    }
   ],
   "source": [
    "import import_ipynb\n",
    "from WordRAM import CreateMachine, Reg, Mem"
   ]
  },
  {
   "cell_type": "code",
   "execution_count": 2,
   "metadata": {},
   "outputs": [],
   "source": [
    "class BitVector:\n",
    "    def __init__(self, n):\n",
    "        self.n = n\n",
    "        r2length = Reg(n).lg() / Reg(2)\n",
    "        r2size = Reg(n) / r2length + Reg(1)\n",
    "        # The bit vector is stored as small blocks\n",
    "        self._bv = Mem(r2size, r2length)\n",
    "        \n",
    "    def _randomize(self):\n",
    "        # Generate data randomly for experiments\n",
    "        self._bv._randomize()\n",
    "        \n",
    "    def buildIndex(self):\n",
    "        # Build brute force index\n",
    "        self._r0bf = []\n",
    "        crt = 0\n",
    "        for i in range(self.n):\n",
    "            crt += self._bv._getBit(i)\n",
    "            self._r0bf.append(crt)\n",
    "        self._s0bf = [None for _ in range(self.n)]\n",
    "        crt = 0\n",
    "        for i in range(self.n):\n",
    "            if self._bv._getBit(i) == 1:\n",
    "                self._s0bf[crt] = i\n",
    "                crt += 1\n",
    "        \n",
    "        # Build succinct index\n",
    "        pass\n",
    "        \n",
    "    def rank0(self, i):\n",
    "        pass\n",
    "    \n",
    "    def select0(self, i):\n",
    "        pass\n",
    "    \n",
    "    def rank1(self, i):\n",
    "        pass\n",
    "    \n",
    "    def select1(self, i):\n",
    "        pass\n",
    "    \n",
    "    def rank0BF(self, i):\n",
    "        return self._rbf[i]\n",
    "    \n",
    "    def select0BF(self, i):\n",
    "        pass\n",
    "    \n",
    "    def rank1BF(self, i):\n",
    "        return self._rbf[i]\n",
    "    \n",
    "    def select1BF(self, i):\n",
    "        pass"
   ]
  },
  {
   "cell_type": "code",
   "execution_count": 3,
   "metadata": {},
   "outputs": [],
   "source": [
    "CreateMachine(16, 8)"
   ]
  },
  {
   "cell_type": "code",
   "execution_count": 4,
   "metadata": {},
   "outputs": [],
   "source": [
    "bv = BitVector(1024)\n",
    "bv._randomize()\n",
    "bv.buildIndex()"
   ]
  },
  {
   "cell_type": "code",
   "execution_count": null,
   "metadata": {},
   "outputs": [],
   "source": []
  }
 ],
 "metadata": {
  "kernelspec": {
   "display_name": "Python 3",
   "language": "python",
   "name": "python3"
  },
  "language_info": {
   "codemirror_mode": {
    "name": "ipython",
    "version": 3
   },
   "file_extension": ".py",
   "mimetype": "text/x-python",
   "name": "python",
   "nbconvert_exporter": "python",
   "pygments_lexer": "ipython3",
   "version": "3.8.4"
  }
 },
 "nbformat": 4,
 "nbformat_minor": 2
}
