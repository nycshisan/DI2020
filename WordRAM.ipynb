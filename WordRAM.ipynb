{
 "cells": [
  {
   "cell_type": "code",
   "execution_count": 1,
   "metadata": {},
   "outputs": [],
   "source": [
    "import math"
   ]
  },
  {
   "cell_type": "code",
   "execution_count": 46,
   "metadata": {},
   "outputs": [],
   "source": [
    "class Word:\n",
    "    def __init__(self, wordLength, ram, x):\n",
    "        self.wordLength = wordLength\n",
    "        self.machine = ram.machine\n",
    "        self.ram = ram\n",
    "        self.set(x)\n",
    "        \n",
    "    def checkError(self, v):\n",
    "        if v > self.ram.maxValue or v < 0:\n",
    "            print(f\"Error! Tried to set value of {v} on the memory with {self.wordLength}-bit word length.\")\n",
    "            assert(False)\n",
    "    \n",
    "    def set(self, x):\n",
    "        self.checkError(x)\n",
    "        self.x = x\n",
    "    \n",
    "    def lg(self):\n",
    "        self.machine.totalExecution += 1\n",
    "        return Word(self.wordLength, self.ram, int(math.log(self.x, 2)))\n",
    "    \n",
    "    def __add__(self, rhs):\n",
    "        self.machine.totalExecution += 1\n",
    "        return Word(self.wordLength, self.ram, self.x + rhs.x)\n",
    "    def __sub__(self, rhs):\n",
    "        self.machine.totalExecution += 1\n",
    "        return Word(self.wordLength, self.ram, self.x - rhs.x)\n",
    "    def  __mul__(self, rhs):\n",
    "        self.machine.totalExecution += 1\n",
    "        return Word(self.wordLength, self.ram, self.x * rhs.x)\n",
    "    def __truediv__(self, rhs):\n",
    "        self.machine.totalExecution += 1\n",
    "        return Word(self.wordLength, self.ram, self.x // rhs.x)\n",
    "    def __and__(self, rhs):\n",
    "        self.machine.totalExecution += 1\n",
    "        return Word(self.wordLength, self.ram, self.x & rhs.x)\n",
    "    def __or__(self, rhs):\n",
    "        self.machine.totalExecution += 1\n",
    "        return Word(self.wordLength, self.ram, self.x | rhs.x)\n",
    "    def __xor__(self, rhs):\n",
    "        self.machine.totalExecution += 1\n",
    "        return Word(self.wordLength, self.ram, self.x ^ rhs.x)\n",
    "    def __lshift__(self, rhs):\n",
    "        self.machine.totalExecution += 1\n",
    "        return Word(self.wordLength, self.ram, self.x << rhs.x)\n",
    "    def __rshift__(self, rhs):\n",
    "        self.machine.totalExecution += 1\n",
    "        return Word(self.wordLength, self.ram, self.x >> rhs.x)"
   ]
  },
  {
   "cell_type": "code",
   "execution_count": 29,
   "metadata": {},
   "outputs": [],
   "source": [
    "class WordRAM:\n",
    "    def __init__(self, size, wordLength, machine):\n",
    "        self.size = size\n",
    "        self.wordLength = wordLength\n",
    "        self.machine = machine\n",
    "        \n",
    "        self.maxValue = 2 ** wordLength - 1\n",
    "        \n",
    "        self._d = [Word(self.wordLength, self, 0) for _ in range(self.size)]\n",
    "    \n",
    "    def get(self, i):\n",
    "        self.machine.totalExecution += 1\n",
    "        return self._d[i]\n",
    "    \n",
    "    def set(self, i, w):\n",
    "        assert(isinstance(w, Word))\n",
    "        self.machine.totalExecution += 1\n",
    "        self._d[i] = w"
   ]
  },
  {
   "cell_type": "code",
   "execution_count": 30,
   "metadata": {},
   "outputs": [],
   "source": [
    "class WordRAMMachine:\n",
    "    def __init__(self, wordLength):\n",
    "        self.wordLength = wordLength\n",
    "        \n",
    "        self.totalMemSize = 0\n",
    "        self.totalExecution = 0\n",
    "        \n",
    "    def allocateMem(self, size, wordLength):\n",
    "        if (wordLength > self.wordLength):\n",
    "            print(f\"Error! Tried to allocate memory with word length of {wordLength} bits on the machine with {self.wordLength}-bit word length.\")\n",
    "            return None\n",
    "        mem = WordRAM(size, wordLength, self)\n",
    "        self.totalMemSize += size * wordLength\n",
    "        return mem"
   ]
  }
 ],
 "metadata": {
  "kernelspec": {
   "display_name": "Python 3",
   "language": "python",
   "name": "python3"
  },
  "language_info": {
   "codemirror_mode": {
    "name": "ipython",
    "version": 3
   },
   "file_extension": ".py",
   "mimetype": "text/x-python",
   "name": "python",
   "nbconvert_exporter": "python",
   "pygments_lexer": "ipython3",
   "version": "3.8.0"
  }
 },
 "nbformat": 4,
 "nbformat_minor": 2
}
